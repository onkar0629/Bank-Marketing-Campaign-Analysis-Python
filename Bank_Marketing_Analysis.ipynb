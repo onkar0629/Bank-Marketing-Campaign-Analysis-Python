{
 "cells": [
  {
   "cell_type": "markdown",
   "id": "e473a70d",
   "metadata": {},
   "source": [
    "# Bank Marketing Campaign Analysis"
   ]
  },
  {
   "cell_type": "code",
   "execution_count": null,
   "id": "4a36e9c2",
   "metadata": {},
   "outputs": [],
   "source": [
    "import pandas as pd\n",
    "import matplotlib.pyplot as plt\n",
    "import seaborn as sns"
   ]
  },
  {
   "cell_type": "code",
   "execution_count": null,
   "id": "cdee04c5",
   "metadata": {},
   "outputs": [],
   "source": [
    "# Load dataset\n",
    "df = pd.read_csv('/mnt/data/bankmarketing.csv')\n",
    "df.head()"
   ]
  },
  {
   "cell_type": "markdown",
   "id": "005ffd92",
   "metadata": {},
   "source": [
    "## Data Overview"
   ]
  },
  {
   "cell_type": "code",
   "execution_count": null,
   "id": "f94c3575",
   "metadata": {},
   "outputs": [],
   "source": [
    "df.info()"
   ]
  },
  {
   "cell_type": "code",
   "execution_count": null,
   "id": "bf1c52bb",
   "metadata": {},
   "outputs": [],
   "source": [
    "df.isnull().sum()"
   ]
  },
  {
   "cell_type": "markdown",
   "id": "4c47c043",
   "metadata": {},
   "source": [
    "## Target Variable Distribution"
   ]
  },
  {
   "cell_type": "code",
   "execution_count": null,
   "id": "86174d5f",
   "metadata": {},
   "outputs": [],
   "source": [
    "sns.countplot(x=df['y'], palette='viridis')\n",
    "plt.title('Subscription Distribution')\n",
    "plt.show()"
   ]
  },
  {
   "cell_type": "markdown",
   "id": "ce7fab61",
   "metadata": {},
   "source": [
    "## Correlation Analysis"
   ]
  },
  {
   "cell_type": "code",
   "execution_count": null,
   "id": "ea6f35d6",
   "metadata": {},
   "outputs": [],
   "source": [
    "plt.figure(figsize=(12,6))\n",
    "sns.heatmap(df.corr(numeric_only=True), annot=True, cmap='coolwarm')\n",
    "plt.title('Correlation Matrix')\n",
    "plt.show()"
   ]
  },
  {
   "cell_type": "markdown",
   "id": "b3494a28",
   "metadata": {},
   "source": [
    "## Job Type Impact on Subscription"
   ]
  },
  {
   "cell_type": "code",
   "execution_count": null,
   "id": "ad255ad7",
   "metadata": {},
   "outputs": [],
   "source": [
    "plt.figure(figsize=(12,6))\n",
    "sns.countplot(x='job', hue='y', data=df, palette='viridis', order=df['job'].value_counts().index)\n",
    "plt.xticks(rotation=45)\n",
    "plt.title('Subscription by Job Type')\n",
    "plt.show()"
   ]
  },
  {
   "cell_type": "markdown",
   "id": "0d86c9ba",
   "metadata": {},
   "source": [
    "## Conclusion\n",
    "- Duration of last call is a key factor.\n",
    "- Retirees and students show higher subscription rates.\n",
    "- Cell phone contacts are more effective.\n",
    "- Strategic focus can improve campaign success."
   ]
  }
 ],
 "metadata": {},
 "nbformat": 4,
 "nbformat_minor": 5
}
